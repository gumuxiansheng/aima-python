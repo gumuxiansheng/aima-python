{
 "cells": [
  {
   "cell_type": "markdown",
   "metadata": {
    "collapsed": true
   },
   "source": [
    "# Missionaries and Cannibals\n",
    "\n",
    "The Missionaries and Cannibals problem is usually stated as follows. Three missionaries and there cannibals are on one side of a river, along with a boat that can hold one or two people. Find a way to get everyone to the other side without ever leaving a group of missionaries in one place outnumbered by the cannibals in that place."
   ]
  },
  {
   "cell_type": "markdown",
   "metadata": {
    "collapsed": true
   },
   "source": [
    "\n",
    "\n",
    "## Goal Formulation\n",
    "\n",
    "The goal for this problem is to find a stratege for the three missionaries and cannibals to cross the river with a boat which can take at most two people, and make sure at every step no missionary at one side is facing more cannibals than missionaries. We assume all the people starts at the RIGHT side of the river.\n",
    "\n",
    "## Formulating the Problem\n",
    "\n",
    "### State\n",
    "\n",
    "We can describe the states using a tuple contains these information:\n",
    "* The number of missionaries on the left side of the river.\n",
    "* The number of cannibals on the left side of the river.\n",
    "* The number of missionaries on the right side of the river.\n",
    "* The number of cannibals on the right side of the river.\n",
    "* Where's the boat.\n",
    "\n",
    "So it's proper to formulate a tuple with 5 numbers:\n",
    "```\n",
    "(0, 0, 3, 3, 1)\n",
    "```\n",
    "where the numbers obey the sort as presented above. The last number equals 1 indicating the boat is on the right side of the river and 0 indicating on the left side.\n",
    "\n",
    "So the starting state and the goal state can be presented as:\n"
   ]
  },
  {
   "cell_type": "code",
   "execution_count": null,
   "metadata": {},
   "outputs": [
    {
     "ename": "ModuleNotFoundError",
     "evalue": "No module named 'exercises'",
     "traceback": [
      "\u001b[0;31m---------------------------------------------------------------------------\u001b[0m",
      "\u001b[0;31mModuleNotFoundError\u001b[0m                       Traceback (most recent call last)",
      "\u001b[0;32m<ipython-input-3-03050c45a514>\u001b[0m in \u001b[0;36m<module>\u001b[0;34m\u001b[0m\n\u001b[0;32m----> 1\u001b[0;31m \u001b[0;32mfrom\u001b[0m \u001b[0mexercises\u001b[0m\u001b[0;34m.\u001b[0m\u001b[0me3_9_missionaries_and_cannibals\u001b[0m \u001b[0;32mimport\u001b[0m \u001b[0mMissionariesAndCannibals\u001b[0m\u001b[0;34m\u001b[0m\u001b[0;34m\u001b[0m\u001b[0m\n\u001b[0m\u001b[1;32m      2\u001b[0m \u001b[0;32mfrom\u001b[0m \u001b[0mnotebook\u001b[0m \u001b[0;32mimport\u001b[0m \u001b[0mpsource\u001b[0m\u001b[0;34m\u001b[0m\u001b[0;34m\u001b[0m\u001b[0m\n",
      "\u001b[0;31mModuleNotFoundError\u001b[0m: No module named 'exercises'"
     ],
     "output_type": "error"
    }
   ],
   "source": [
    "from exercises.e3_9_missionaries_and_cannibals import MissionariesAndCannibals\n",
    "from notebook import psource\n"
   ]
  },
  {
   "cell_type": "code",
   "execution_count": null,
   "metadata": {},
   "outputs": [],
   "source": [
    "starting_state = (0, 0, 3, 3, 1)\n",
    "goal_state = (3, 3, 0, 0, 0)\n"
   ]
  },
  {
   "cell_type": "markdown",
   "metadata": {},
   "source": [
    "### Actions\n",
    "\n",
    "At each state, we have actions to drive one or two people to the other side of the river. Take the side into consideration, we have ten actions:\n"
   ]
  },
  {
   "cell_type": "code",
   "execution_count": null,
   "metadata": {},
   "outputs": [],
   "source": [
    "possible_actions = ['ML', 'MR', 'CL', 'CR', 'MML', 'MMR', 'CCL', 'CCR', 'MCL', 'MCR']\n"
   ]
  },
  {
   "cell_type": "markdown",
   "metadata": {},
   "source": [
    "In these actions, 'ML' means the boat take one missionary on the left side to the right side, 'MMR' means the boat will take two missionaries on the right side to the left side, 'MCR' indicating one missionary and one cannibal will be taken from right side to the left, and others are similarly defined.\n",
    "\n",
    "However, not all the actions can be excute at one state. The straightforward issue is when the boat is on the right side of the river, actions which take people from left side to the right side are not applicatble. Other issues are listed in the code below."
   ]
  },
  {
   "cell_type": "code",
   "execution_count": null,
   "metadata": {},
   "outputs": [],
   "source": [
    "psource(MissionariesAndCannibals)\n"
   ]
  },
  {
   "cell_type": "markdown",
   "metadata": {},
   "source": [
    "## Seaching for the Result\n",
    "\n",
    "We do breadth first graph search for the solution:"
   ]
  },
  {
   "cell_type": "code",
   "execution_count": null,
   "metadata": {},
   "outputs": [],
   "source": [
    "from search import breadth_first_graph_search\n",
    "\n",
    "\n",
    "def solve():\n",
    "    missionaries_and_cannibals = MissionariesAndCannibals(starting_state)\n",
    "    return breadth_first_graph_search(missionaries_and_cannibals).solution()\n"
   ]
  },
  {
   "cell_type": "markdown",
   "metadata": {},
   "source": [
    "And we can get the action list to reach the goal."
   ]
  },
  {
   "cell_type": "code",
   "execution_count": null,
   "metadata": {},
   "outputs": [],
   "source": [
    "print(solve())\n"
   ]
  }
 ],
 "metadata": {
  "kernelspec": {
   "display_name": "Python 3",
   "language": "python",
   "name": "python3"
  },
  "language_info": {
   "codemirror_mode": {
    "name": "ipython",
    "version": 3
   },
   "file_extension": ".py",
   "mimetype": "text/x-python",
   "name": "python",
   "nbconvert_exporter": "python",
   "pygments_lexer": "ipython3",
   "version": "3.7.2"
  }
 },
 "nbformat": 4,
 "nbformat_minor": 1
}
