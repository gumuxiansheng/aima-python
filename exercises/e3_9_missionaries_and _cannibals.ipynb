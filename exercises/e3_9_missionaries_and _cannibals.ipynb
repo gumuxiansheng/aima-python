{
 "cells": [
  {
   "cell_type": "markdown",
   "metadata": {
    "collapsed": true
   },
   "source": [
    "# Missionaries and Cannibals\n",
    "\n",
    "The Missionaries and Cannibals problem is usually stated as follows. Three missionaries and there cannibals are on one side of a river, along with a boat that can hold one or two people. Find a way to get everyone to the other side without ever leaving a group of missionaries in one place outnumbered by the cannibals in that place."
   ]
  },
  {
   "cell_type": "code",
   "execution_count": 24,
   "metadata": {},
   "outputs": [
    {
     "name": "stdout",
     "output_type": "stream",
     "text": [
      "Python 3.7.3 (default, Mar 27 2019, 16:54:48) \n",
      "[Clang 4.0.1 (tags/RELEASE_401/final)] on darwin\n"
     ]
    }
   ],
   "source": [
    "import sys; print('Python %s on %s' % (sys.version, sys.platform))\n",
    "sys.path.extend(['/Users/mikezhu/Dev/Python/aima-python'])"
   ]
  },
  {
   "cell_type": "markdown",
   "metadata": {
    "collapsed": true
   },
   "source": [
    "\n",
    "\n",
    "## Goal Formulation\n",
    "\n",
    "The goal for this problem is to find a stratege for the three missionaries and cannibals to cross the river with a boat which can take at most two people, and make sure at every step no missionary at one side is facing more cannibals than missionaries. We assume all the people starts at the RIGHT side of the river.\n",
    "\n",
    "## Formulating the Problem\n",
    "\n",
    "### State\n",
    "\n",
    "We can describe the states using a tuple contains these information:\n",
    "* The number of missionaries on the left side of the river.\n",
    "* The number of cannibals on the left side of the river.\n",
    "* The number of missionaries on the right side of the river.\n",
    "* The number of cannibals on the right side of the river.\n",
    "* Where's the boat.\n",
    "\n",
    "So it's proper to formulate a tuple with 5 numbers:\n",
    "```\n",
    "(0, 0, 3, 3, 1)\n",
    "```\n",
    "where the numbers obey the sort as presented above. The last number equals 1 indicating the boat is on the right side of the river and 0 indicating on the left side.\n",
    "\n",
    "So the starting state and the goal state can be presented as:\n"
   ]
  },
  {
   "cell_type": "code",
   "execution_count": 25,
   "metadata": {},
   "outputs": [],
   "source": [
    "starting_state = (0, 0, 3, 3, 1)\n",
    "goal_state = (3, 3, 0, 0, 0)\n"
   ]
  },
  {
   "cell_type": "markdown",
   "metadata": {},
   "source": [
    "### Actions\n",
    "\n",
    "At each state, we have actions to drive one or two people to the other side of the river. Take the side into consideration, we have ten actions:\n"
   ]
  },
  {
   "cell_type": "code",
   "execution_count": 26,
   "metadata": {},
   "outputs": [],
   "source": [
    "all_possible_actions = ['ML', 'MR', 'CL', 'CR', 'MML', 'MMR', 'CCL', 'CCR', 'MCL', 'MCR']\n"
   ]
  },
  {
   "cell_type": "markdown",
   "metadata": {},
   "source": [
    "In these actions, 'ML' means the boat take one missionary on the left side to the right side, 'MMR' means the boat will take two missionaries on the right side to the left side, 'MCR' indicating one missionary and one cannibal will be taken from right side to the left, and others are similarly defined.\n",
    "\n",
    "However, not all the actions can be excute at one state. The straightforward issue is when the boat is on the right side of the river, actions which take people from left side to the right side are not applicatble. Other issues are listed in the code below."
   ]
  },
  {
   "cell_type": "code",
   "execution_count": 27,
   "metadata": {},
   "outputs": [],
   "source": [
    "from search import Problem\n",
    "\n",
    "class MissionariesAndCannibals(Problem):\n",
    "    \"\"\"\"\"\"\n",
    "    def __init__(self, initial, goal=goal_state):\n",
    "        \"\"\" Define goal state and initialize a problem\n",
    "        (3, 3, 0, 0, 0)\n",
    "        (M, C, M, C, B)\n",
    "        \"\"\"\n",
    "\n",
    "        self.goal = goal\n",
    "        Problem.__init__(self, initial, goal)\n",
    "\n",
    "    def actions(self, state):\n",
    "        possible_actions = all_possible_actions.copy()\n",
    "        is_right_side = (state[-1] == 1)\n",
    "        if is_right_side:\n",
    "            possible_actions.remove('ML')\n",
    "            possible_actions.remove('CL')\n",
    "            possible_actions.remove('MML')\n",
    "            possible_actions.remove('CCL')\n",
    "            possible_actions.remove('MCL')\n",
    "\n",
    "            # MR\n",
    "            if (state[2] - 1 < 0) or (0 < state[2] - 1 < state[3]) or (0 < state[0] + 1 < state[1]):\n",
    "                possible_actions.remove('MR')\n",
    "\n",
    "            # MMR\n",
    "            if (state[2] - 2 < 0) or (0 < state[2] - 2 < state[3]) or (0 < state[0] + 2 < state[1]):\n",
    "                possible_actions.remove('MMR')\n",
    "\n",
    "            # MCR\n",
    "            if (state[2] - 1 < 0) or (state[3] - 1 < 0) or (0 < state[0] + 1 < state[1] + 1):\n",
    "                possible_actions.remove('MCR')\n",
    "\n",
    "            # CR\n",
    "            if (state[3] - 1 < 0) or (0 < state[0] < state[1] + 1):\n",
    "                possible_actions.remove('CR')\n",
    "\n",
    "            # CCR\n",
    "            if (state[3] - 2 < 0) or (0 < state[0] < state[1] + 2):\n",
    "                possible_actions.remove('CCR')\n",
    "\n",
    "        else:\n",
    "            possible_actions.remove('MR')\n",
    "            possible_actions.remove('CR')\n",
    "            possible_actions.remove('MMR')\n",
    "            possible_actions.remove('CCR')\n",
    "            possible_actions.remove('MCR')\n",
    "\n",
    "            # ML\n",
    "            if (state[0] - 1 < 0) or (0 < state[0] - 1 < state[1]) or (0 < state[2] + 1 < state[3]):\n",
    "                possible_actions.remove('ML')\n",
    "\n",
    "            # MML\n",
    "            if (state[0] - 2 < 0) or (0 < state[0] - 2 < state[1]) or (0 < state[2] + 2 < state[3]):\n",
    "                possible_actions.remove('MML')\n",
    "\n",
    "            # MCL\n",
    "            if (state[0] - 1 < 0) or (state[1] - 1 < 0) or (0 < state[2] + 1 < state[3] + 1):\n",
    "                possible_actions.remove('MCL')\n",
    "\n",
    "            # CL\n",
    "            if (state[1] - 1 < 0) or (0 < state[2] < state[3] + 1):\n",
    "                possible_actions.remove('CL')\n",
    "\n",
    "            # CCL\n",
    "            if (state[1] - 2 < 0) or (0 < state[2] < state[3] + 2):\n",
    "                possible_actions.remove('CCL')\n",
    "\n",
    "        return possible_actions\n",
    "\n",
    "    def result(self, state, action):\n",
    "        new_state = list(state)\n",
    "\n",
    "        if action == 'ML':\n",
    "            new_state[0] = new_state[0] - 1\n",
    "            new_state[2] = new_state[2] + 1\n",
    "\n",
    "        elif action == 'MML':\n",
    "            new_state[0] = new_state[0] - 2\n",
    "            new_state[2] = new_state[2] + 2\n",
    "\n",
    "        elif action == 'MCL':\n",
    "            new_state[0] = new_state[0] - 1\n",
    "            new_state[1] = new_state[1] - 1\n",
    "            new_state[2] = new_state[2] + 1\n",
    "            new_state[3] = new_state[3] + 1\n",
    "\n",
    "        elif action == 'CL':\n",
    "            new_state[1] = new_state[1] - 1\n",
    "            new_state[3] = new_state[3] + 1\n",
    "\n",
    "        elif action == 'CCL':\n",
    "            new_state[1] = new_state[1] - 2\n",
    "            new_state[3] = new_state[3] + 2\n",
    "\n",
    "        elif action == 'MR':\n",
    "            new_state[0] = new_state[0] + 1\n",
    "            new_state[2] = new_state[2] - 1\n",
    "\n",
    "        elif action == 'MMR':\n",
    "            new_state[0] = new_state[0] + 2\n",
    "            new_state[2] = new_state[2] - 2\n",
    "\n",
    "        elif action == 'MCR':\n",
    "            new_state[0] = new_state[0] + 1\n",
    "            new_state[1] = new_state[1] + 1\n",
    "            new_state[2] = new_state[2] - 1\n",
    "            new_state[3] = new_state[3] - 1\n",
    "\n",
    "        elif action == 'CR':\n",
    "            new_state[1] = new_state[1] + 1\n",
    "            new_state[3] = new_state[3] - 1\n",
    "\n",
    "        elif action == 'CCR':\n",
    "            new_state[1] = new_state[1] + 2\n",
    "            new_state[3] = new_state[3] - 2\n",
    "\n",
    "        new_state[4] = 1 - new_state[4]\n",
    "\n",
    "        return tuple(new_state)\n",
    "\n",
    "    def value(self, state):\n",
    "        pass\n",
    "\n",
    "    def goal_test(self, state):\n",
    "        \"\"\" Given a state, return True if state is a goal state or False, otherwise \"\"\"\n",
    "\n",
    "        return state == self.goal"
   ]
  },
  {
   "cell_type": "markdown",
   "metadata": {},
   "source": [
    "## Seaching for the Result\n",
    "\n",
    "We do breadth first graph search for the solution:"
   ]
  },
  {
   "cell_type": "code",
   "execution_count": 28,
   "metadata": {},
   "outputs": [],
   "source": [
    "from search import breadth_first_graph_search\n",
    "\n",
    "\n",
    "def solve():\n",
    "    missionaries_and_cannibals = MissionariesAndCannibals(starting_state)\n",
    "    return breadth_first_graph_search(missionaries_and_cannibals).solution()\n"
   ]
  },
  {
   "cell_type": "markdown",
   "metadata": {},
   "source": [
    "And we can get the action list to reach the goal."
   ]
  },
  {
   "cell_type": "code",
   "execution_count": 29,
   "metadata": {},
   "outputs": [
    {
     "name": "stdout",
     "output_type": "stream",
     "text": [
      "['CCR', 'CL', 'CCR', 'CL', 'MMR', 'MCL', 'MMR', 'CL', 'CCR', 'ML', 'MCR']\n"
     ]
    }
   ],
   "source": [
    "print(solve())\n"
   ]
  }
 ],
 "metadata": {
  "kernelspec": {
   "display_name": "Python 3",
   "language": "python",
   "name": "python3"
  },
  "language_info": {
   "codemirror_mode": {
    "name": "ipython",
    "version": 3
   },
   "file_extension": ".py",
   "mimetype": "text/x-python",
   "name": "python",
   "nbconvert_exporter": "python",
   "pygments_lexer": "ipython3",
   "version": "3.7.3"
  }
 },
 "nbformat": 4,
 "nbformat_minor": 1
}
